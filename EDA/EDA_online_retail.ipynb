{
 "cells": [
  {
   "cell_type": "markdown",
   "id": "37c1fb64",
   "metadata": {},
   "source": [
    "# Exploratory data analysis"
   ]
  },
  {
   "cell_type": "markdown",
   "id": "fa8a2fb4",
   "metadata": {},
   "source": [
    "## Import packages"
   ]
  },
  {
   "cell_type": "code",
   "execution_count": 3,
   "id": "c8476a34",
   "metadata": {},
   "outputs": [],
   "source": [
    "from pyspark.sql import SparkSession\n",
    "import pyspark.sql.functions as f\n",
    "import os"
   ]
  },
  {
   "cell_type": "markdown",
   "id": "814bbd82",
   "metadata": {},
   "source": [
    "## set environment variables for aws and avro for spark and bucket link"
   ]
  },
  {
   "cell_type": "code",
   "execution_count": 4,
   "id": "bd2c9ea4",
   "metadata": {},
   "outputs": [],
   "source": [
    "with open(\"work/aws_access_key_id\") as file:\n",
    "    os.environ[\"AWS_ACCESS_KEY_ID\"] = file.readline()"
   ]
  },
  {
   "cell_type": "code",
   "execution_count": 5,
   "id": "06a2279c",
   "metadata": {},
   "outputs": [],
   "source": [
    "with open(\"work/aws_secret_access_key\") as file:\n",
    "    os.environ[\"AWS_SECRET_ACCESS_KEY\"] = file.readline()"
   ]
  },
  {
   "cell_type": "code",
   "execution_count": 6,
   "id": "f55c651d",
   "metadata": {},
   "outputs": [],
   "source": [
    "os.environ['PYSPARK_SUBMIT_ARGS'] = \"--packages org.apache.spark:spark-avro_2.12:3.5.1,org.apache.hadoop:hadoop-aws:3.3.4 pyspark-shell\""
   ]
  },
  {
   "cell_type": "code",
   "execution_count": 7,
   "id": "0da8bb50",
   "metadata": {},
   "outputs": [],
   "source": [
    "url = \"s3a://bucket-uci-retail-project-1/bronze/kafka/sales_events/\""
   ]
  },
  {
   "cell_type": "markdown",
   "id": "35609282",
   "metadata": {},
   "source": [
    "## set up spark connection"
   ]
  },
  {
   "cell_type": "code",
   "execution_count": 8,
   "id": "5559a75a",
   "metadata": {},
   "outputs": [],
   "source": [
    "spark = ( \n",
    "         SparkSession.builder\n",
    "        .appName(\"Read Avro from S3\")\n",
    "        .config(\"spark.hadoop.fs.s3a.impl\", \"org.apache.hadoop.fs.s3a.S3AFileSystem\")\n",
    "        .config(\"spark.hadoop.fs.s3a.aws.credentials.provider\", \"com.amazonaws.auth.DefaultAWSCredentialsProviderChain\")\n",
    "        .config(\"spark.sql.extensions\", \"io.delta.sql.DeltaSparkSessionExtension\")\n",
    "        .getOrCreate()\n",
    ")"
   ]
  },
  {
   "cell_type": "markdown",
   "id": "76549d99",
   "metadata": {},
   "source": [
    "## print schema of sales events"
   ]
  },
  {
   "cell_type": "code",
   "execution_count": 9,
   "id": "8cc65041",
   "metadata": {},
   "outputs": [
    {
     "name": "stdout",
     "output_type": "stream",
     "text": [
      "root\n",
      " |-- InvoiceNo: string (nullable = true)\n",
      " |-- InvoiceDate: timestamp (nullable = true)\n",
      " |-- CustomerID: string (nullable = true)\n",
      " |-- Country: string (nullable = true)\n",
      " |-- OrderList: array (nullable = true)\n",
      " |    |-- element: struct (containsNull = true)\n",
      " |    |    |-- StockCode: string (nullable = true)\n",
      " |    |    |-- Description: string (nullable = true)\n",
      " |    |    |-- Quantity: integer (nullable = true)\n",
      " |    |    |-- UnitPrice: float (nullable = true)\n",
      " |-- year: integer (nullable = true)\n",
      "\n"
     ]
    }
   ],
   "source": [
    "df = spark.read.format(\"avro\").load(url)\n",
    "df.printSchema()"
   ]
  },
  {
   "cell_type": "code",
   "execution_count": 10,
   "id": "87d2e47a",
   "metadata": {},
   "outputs": [
    {
     "name": "stdout",
     "output_type": "stream",
     "text": [
      "+---------+-------------------+----------+--------------+--------------------+----+\n",
      "|InvoiceNo|        InvoiceDate|CustomerID|       Country|           OrderList|year|\n",
      "+---------+-------------------+----------+--------------+--------------------+----+\n",
      "|   567860|2011-09-22 13:53:00|     18102|United Kingdom|[{22720, SET OF 3...|2011|\n",
      "|   567861|2011-09-22 14:01:00|       nan|United Kingdom|[{35597A, nan, -1...|2011|\n",
      "|   567862|2011-09-22 14:02:00|       nan|United Kingdom|[{35591T, nan, -4...|2011|\n",
      "|   567866|2011-09-22 14:13:00|     16669|United Kingdom|[{22423, REGENCY ...|2011|\n",
      "|   567868|2011-09-22 14:18:00|     17603|United Kingdom|[{84949, SILVER H...|2011|\n",
      "|   567869|2011-09-22 14:18:00|     16669|United Kingdom|[{M, Manual, 5, 0...|2011|\n",
      "|   567873|2011-09-22 14:25:00|     13055|United Kingdom|[{22898, CHILDREN...|2011|\n",
      "|   567874|2011-09-22 14:26:00|     13055|United Kingdom|[{23196, RETO LEA...|2011|\n",
      "|   567879|2011-09-22 14:53:00|     16161|United Kingdom|[{20973, 12 PENCI...|2011|\n",
      "|   567880|2011-09-22 14:56:00|     15398|United Kingdom|[{22383, LUNCH BA...|2011|\n",
      "|   567881|2011-09-22 14:59:00|     15640|United Kingdom|[{21930, JUMBO ST...|2011|\n",
      "|   567882|2011-09-22 15:03:00|     12906|United Kingdom|[{23188, VINTAGE ...|2011|\n",
      "|   567883|2011-09-22 15:03:00|     12906|United Kingdom|[{21731, RED TOAD...|2011|\n",
      "|  C567884|2011-09-22 15:08:00|     13627|United Kingdom|[{22909, SET OF 2...|2011|\n",
      "|   567887|2011-09-22 15:28:00|     15237|United Kingdom|[{20971, PINK BLU...|2011|\n",
      "|   567888|2011-09-22 15:34:00|     17079|United Kingdom|[{23298, SPOTTY B...|2011|\n",
      "|   567890|2011-09-22 15:40:00|     14125|United Kingdom|[{22551, PLASTERS...|2011|\n",
      "|   567893|2011-09-22 15:54:00|     17163|United Kingdom|[{22112, CHOCOLAT...|2011|\n",
      "|   567894|2011-09-22 15:54:00|     16389|United Kingdom|[{84949, SILVER H...|2011|\n",
      "|  C567896|2011-09-22 15:59:00|     14527|United Kingdom|[{D, Discount, -1...|2011|\n",
      "+---------+-------------------+----------+--------------+--------------------+----+\n",
      "only showing top 20 rows\n",
      "\n"
     ]
    }
   ],
   "source": [
    "df.show()"
   ]
  },
  {
   "cell_type": "markdown",
   "id": "67d8e0fd",
   "metadata": {},
   "source": [
    "## Analysis of non numeric Invoice numbers"
   ]
  },
  {
   "cell_type": "code",
   "execution_count": 11,
   "id": "3ba7449c",
   "metadata": {},
   "outputs": [
    {
     "name": "stdout",
     "output_type": "stream",
     "text": [
      "+---------+-------------------+----------+--------------+--------------------+----+---------------+\n",
      "|InvoiceNo|        InvoiceDate|CustomerID|       Country|           OrderList|year|Invoice_trimmed|\n",
      "+---------+-------------------+----------+--------------+--------------------+----+---------------+\n",
      "|   567860|2011-09-22 13:53:00|     18102|United Kingdom|[{22720, SET OF 3...|2011|               |\n",
      "|  A563185|2011-08-12 14:50:00|       nan|United Kingdom|[{B, Adjust bad d...|2011|              A|\n",
      "|  C567884|2011-09-22 15:08:00|     13627|United Kingdom|[{22909, SET OF 2...|2011|              C|\n",
      "+---------+-------------------+----------+--------------+--------------------+----+---------------+\n",
      "\n"
     ]
    }
   ],
   "source": [
    "df.withColumn(\n",
    "    \"Invoice_trimmed\",\n",
    "    f.expr(\"substring(InvoiceNo, 1, length(InvoiceNo) - 6)\")\n",
    ").dropDuplicates(\n",
    "    [\"Invoice_trimmed\"]\n",
    ").show()"
   ]
  },
  {
   "cell_type": "code",
   "execution_count": 12,
   "id": "3dca9822",
   "metadata": {},
   "outputs": [
    {
     "name": "stdout",
     "output_type": "stream",
     "text": [
      "+---------+---------+---------------+--------+---------+\n",
      "|InvoiceNo|StockCode|    Description|Quantity|UnitPrice|\n",
      "+---------+---------+---------------+--------+---------+\n",
      "|  A563185|        B|Adjust bad debt|       1| 11062.06|\n",
      "|  A563186|        B|Adjust bad debt|       1|-11062.06|\n",
      "|  A563187|        B|Adjust bad debt|       1|-11062.06|\n",
      "+---------+---------+---------------+--------+---------+\n",
      "\n"
     ]
    }
   ],
   "source": [
    "df.filter(\n",
    "    f.expr(\"substring(InvoiceNo, 1, length(InvoiceNo) - 6)\") == \"A\"\n",
    ").withColumn(\n",
    "    \"Order\",\n",
    "    f.explode(\"OrderList\")\n",
    ").select(\n",
    "    \"InvoiceNo\",\n",
    "    \"Order.*\"\n",
    ").show()"
   ]
  },
  {
   "cell_type": "markdown",
   "id": "38f511fc",
   "metadata": {},
   "source": [
    "## Analysis of non-numeric stock codes"
   ]
  },
  {
   "cell_type": "code",
   "execution_count": 13,
   "id": "e6e26588",
   "metadata": {},
   "outputs": [
    {
     "name": "stdout",
     "output_type": "stream",
     "text": [
      "+------------+----------------------------------+--------+---------+-----------------+---------------+\n",
      "|StockCode   |Description                       |Quantity|UnitPrice|trimmed_stockcode|lower_stockcode|\n",
      "+------------+----------------------------------+--------+---------+-----------------+---------------+\n",
      "|AMAZONFEE   |AMAZON FEE                        |-1      |5942.57  |AMAZO            |amazonfee      |\n",
      "|B           |Adjust bad debt                   |1       |11062.06 |B                |b              |\n",
      "|BANK CHARGES|Bank Charges                      |1       |15.0     |BANK             |bank charges   |\n",
      "|C2          |CARRIAGE                          |1       |50.0     |C2               |c2             |\n",
      "|CRUK        |CRUK Commission                   |-1      |361.59   |CRUK             |cruk           |\n",
      "|D           |Discount                          |-1      |18.62    |D                |d              |\n",
      "|DCGS0003    |BOXED GLASS ASHTRAY               |1       |2.46     |DCGS0            |dcgs0003       |\n",
      "|DCGS0004    |HAYNES CAMPER SHOULDER BAG        |1       |16.63    |DCGS0            |dcgs0004       |\n",
      "|DCGS0069    |OOH LA LA DOGS COLLAR             |1       |15.79    |DCGS0            |dcgs0069       |\n",
      "|DCGS0070    |CAMOUFLAGE DOG COLLAR             |1       |12.72    |DCGS0            |dcgs0070       |\n",
      "|DCGS0076    |SUNJAR LED NIGHT NIGHT LIGHT      |1       |16.13    |DCGS0            |dcgs0076       |\n",
      "|DCGSSBOY    |BOYS PARTY BAG                    |2       |3.29     |DCGSS            |dcgssboy       |\n",
      "|DCGSSGIRL   |GIRLS PARTY BAG                   |1       |3.29     |DCGSS            |dcgssgirl      |\n",
      "|DOT         |DOTCOM POSTAGE                    |1       |175.6    |DOT              |dot            |\n",
      "|gift_0001_10|Dotcomgiftshop Gift Voucher £10.00|1       |8.33     |gift_            |gift_0001_10   |\n",
      "|gift_0001_20|Dotcomgiftshop Gift Voucher £20.00|1       |16.67    |gift_            |gift_0001_20   |\n",
      "|gift_0001_30|Dotcomgiftshop Gift Voucher £30.00|1       |25.0     |gift_            |gift_0001_30   |\n",
      "|gift_0001_40|Dotcomgiftshop Gift Voucher £40.00|1       |33.33    |gift_            |gift_0001_40   |\n",
      "|gift_0001_50|Dotcomgiftshop Gift Voucher £50.00|1       |41.67    |gift_            |gift_0001_50   |\n",
      "|M           |Manual                            |5       |0.8      |M                |m              |\n",
      "|PADS        |PADS TO MATCH ALL CUSHIONS        |1       |0.001    |PADS             |pads           |\n",
      "|POST        |POSTAGE                           |2       |18.0     |POST             |post           |\n",
      "|S           |SAMPLES                           |-1      |47.98    |S                |s              |\n",
      "+------------+----------------------------------+--------+---------+-----------------+---------------+\n",
      "\n"
     ]
    }
   ],
   "source": [
    "df.withColumn(\n",
    "    \"Order\",\n",
    "    f.explode(\"OrderList\")\n",
    ").select(\n",
    "    \"Order.*\"\n",
    ").withColumn(\n",
    "    \"trimmed_stockcode\",\n",
    "    f.col(\"StockCode\").substr(1, 5)\n",
    ").withColumn(\n",
    "    \"lower_stockcode\",\n",
    "    f.lower(f.col(\"StockCode\"))\n",
    ").filter(\n",
    "    ( f.col(\"trimmed_stockcode\").cast(\"int\").isNull() ) &\n",
    "    ( f.col(\"UnitPrice\") != 0 )\n",
    ").dropDuplicates(\n",
    "    [\"lower_stockcode\"]\n",
    ").show(100, truncate=False)"
   ]
  },
  {
   "cell_type": "markdown",
   "id": "85ff3b44",
   "metadata": {},
   "source": [
    "## Check the split between model type and version"
   ]
  },
  {
   "cell_type": "code",
   "execution_count": 14,
   "id": "e49bbe41",
   "metadata": {},
   "outputs": [
    {
     "name": "stdout",
     "output_type": "stream",
     "text": [
      "+---------+--------------------+--------+---------+-----------------+------------+--------------+---------+\n",
      "|StockCode|         Description|Quantity|UnitPrice|trimmed_stockcode|ProductModel|ProductVersion|IsSpecial|\n",
      "+---------+--------------------+--------+---------+-----------------+------------+--------------+---------+\n",
      "|    22720|SET OF 3 CAKE TIN...|       8|     3.39|            22720|       22720|          NULL|    false|\n",
      "|    23243|SET OF TEA COFFEE...|      24|     3.39|            23243|       23243|          NULL|    false|\n",
      "|    22838|3 TIER CAKE TIN R...|       4|     9.98|            22838|       22838|          NULL|    false|\n",
      "|    22842|BISCUIT TIN VINTA...|       6|     5.95|            22842|       22842|          NULL|    false|\n",
      "|    22843|BISCUIT TIN VINTA...|       6|     4.67|            22843|       22843|          NULL|    false|\n",
      "|    22839|3 TIER CAKE TIN G...|       4|     9.98|            22839|       22839|          NULL|    false|\n",
      "|    22840|ROUND CAKE TIN VI...|       4|     5.49|            22840|       22840|          NULL|    false|\n",
      "|    22841|ROUND CAKE TIN VI...|       4|     5.49|            22841|       22841|          NULL|    false|\n",
      "|    22423|REGENCY CAKESTAND...|       3|    12.75|            22423|       22423|          NULL|    false|\n",
      "|    22617|BAKING SET SPACEB...|       3|     4.95|            22617|       22617|          NULL|    false|\n",
      "|    22138|BAKING SET 9 PIEC...|       3|     4.95|            22138|       22138|          NULL|    false|\n",
      "|    21931|JUMBO STORAGE BAG...|       2|     2.08|            21931|       21931|          NULL|    false|\n",
      "|    23202|JUMBO BAG VINTAGE...|       2|     2.08|            23202|       23202|          NULL|    false|\n",
      "|    22080|RIBBON REEL POLKA...|       5|     1.65|            22080|       22080|          NULL|    false|\n",
      "|   85099B|JUMBO BAG RED RET...|       4|     2.08|            85099|       85099|             B|    false|\n",
      "|    22178|VICTORIAN GLASS H...|      12|     1.95|            22178|       22178|          NULL|    false|\n",
      "|    22079|RIBBON REEL HEART...|       3|     1.65|            22079|       22079|          NULL|    false|\n",
      "|    22078|RIBBON REEL LACE ...|       5|      2.1|            22078|       22078|          NULL|    false|\n",
      "|    23298|      SPOTTY BUNTING|       2|     4.95|            23298|       23298|          NULL|    false|\n",
      "|   47590A|BLUE HAPPY BIRTHD...|       3|     5.45|            47590|       47590|             A|    false|\n",
      "+---------+--------------------+--------+---------+-----------------+------------+--------------+---------+\n",
      "only showing top 20 rows\n",
      "\n"
     ]
    }
   ],
   "source": [
    "df.withColumn(\n",
    "    \"Order\",\n",
    "    f.explode(\"OrderList\")\n",
    ").select(\n",
    "    \"Order.*\"\n",
    ").withColumn(\n",
    "    \"StockCode\",\n",
    "    f.upper(f.col(\"StockCode\"))\n",
    ").withColumn(\n",
    "    \"trimmed_stockcode\",\n",
    "    f.col(\"StockCode\").substr(1, 5)\n",
    ").filter(\n",
    "    ( f.col(\"trimmed_stockcode\").cast(\"int\").isNotNull() ) &\n",
    "    ( f.col(\"UnitPrice\") != 0 )\n",
    ").withColumns(\n",
    "    {\n",
    "        \"ProductModel\": f.col(\"trimmed_stockcode\"),\n",
    "        \"ProductVersion\": f.when(\n",
    "            f.length(\"StockCode\") > 5,\n",
    "            f.col(\"StockCode\").substr(6, 100)\n",
    "        ),\n",
    "        \"IsSpecial\": \n",
    "            ( ~f.col(\"trimmed_stockcode\").cast(\"int\").isNotNull() ) &\n",
    "            ( ~f.col(\"StockCode\").startswith(\"DCGS\") ) &\n",
    "            ( ~f.col(\"StockCode\").startswith(\"GIFT\") )\n",
    "    }\n",
    ").show()"
   ]
  },
  {
   "cell_type": "markdown",
   "id": "64e0c56b",
   "metadata": {},
   "source": [
    "## check outliers"
   ]
  },
  {
   "cell_type": "code",
   "execution_count": 16,
   "id": "aa5ea777",
   "metadata": {},
   "outputs": [
    {
     "name": "stdout",
     "output_type": "stream",
     "text": [
      "+---------+---------------+--------+---------+\n",
      "|StockCode|    Description|Quantity|UnitPrice|\n",
      "+---------+---------------+--------+---------+\n",
      "|        B|Adjust bad debt|       1| 11062.06|\n",
      "|        M|         Manual|      -1|  38970.0|\n",
      "|AMAZONFEE|     AMAZON FEE|      -1| 13541.33|\n",
      "|AMAZONFEE|     AMAZON FEE|       1| 13541.33|\n",
      "|AMAZONFEE|     AMAZON FEE|      -1| 13474.79|\n",
      "|AMAZONFEE|     AMAZON FEE|      -1| 16453.71|\n",
      "|AMAZONFEE|     AMAZON FEE|      -1| 13541.33|\n",
      "|AMAZONFEE|     AMAZON FEE|      -1| 16888.02|\n",
      "+---------+---------------+--------+---------+\n",
      "\n"
     ]
    }
   ],
   "source": [
    "df.withColumn(\n",
    "    \"Order\",\n",
    "    f.explode(\"OrderList\")\n",
    ").select(\n",
    "    \"Order.*\"\n",
    ").filter(\n",
    "    f.col(\"UnitPrice\") > 10000\n",
    ").show()"
   ]
  },
  {
   "cell_type": "code",
   "execution_count": 18,
   "id": "8fa549f5",
   "metadata": {},
   "outputs": [
    {
     "name": "stdout",
     "output_type": "stream",
     "text": [
      "+---------+---------------+--------+---------+\n",
      "|StockCode|    Description|Quantity|UnitPrice|\n",
      "+---------+---------------+--------+---------+\n",
      "|        B|Adjust bad debt|       1|-11062.06|\n",
      "|        B|Adjust bad debt|       1|-11062.06|\n",
      "+---------+---------------+--------+---------+\n",
      "\n"
     ]
    }
   ],
   "source": [
    "df.withColumn(\n",
    "    \"Order\",\n",
    "    f.explode(\"OrderList\")\n",
    ").select(\n",
    "    \"Order.*\"\n",
    ").filter(\n",
    "    f.col(\"UnitPrice\") < -10000\n",
    ").show()"
   ]
  }
 ],
 "metadata": {
  "kernelspec": {
   "display_name": "Python 3 (ipykernel)",
   "language": "python",
   "name": "python3"
  },
  "language_info": {
   "codemirror_mode": {
    "name": "ipython",
    "version": 3
   },
   "file_extension": ".py",
   "mimetype": "text/x-python",
   "name": "python",
   "nbconvert_exporter": "python",
   "pygments_lexer": "ipython3",
   "version": "3.11.10"
  }
 },
 "nbformat": 4,
 "nbformat_minor": 5
}
